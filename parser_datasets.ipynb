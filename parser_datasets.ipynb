{
 "cells": [
  {
   "cell_type": "code",
   "execution_count": 1,
   "metadata": {},
   "outputs": [],
   "source": [
    "a=['a','b','c']\n",
    "b=['d']\n",
    "b = a + b"
   ]
  },
  {
   "cell_type": "code",
   "execution_count": 2,
   "metadata": {},
   "outputs": [
    {
     "data": {
      "text/plain": [
       "['a', 'b', 'c', 'd']"
      ]
     },
     "execution_count": 2,
     "metadata": {},
     "output_type": "execute_result"
    }
   ],
   "source": [
    "b"
   ]
  },
  {
   "cell_type": "code",
   "execution_count": 3,
   "metadata": {},
   "outputs": [],
   "source": [
    "import pandas as pd"
   ]
  },
  {
   "cell_type": "code",
   "execution_count": 4,
   "metadata": {
    "scrolled": false
   },
   "outputs": [],
   "source": [
    "def get_value_type(t):\n",
    "    if t == 'object' or t == 'category':\n",
    "        return 'Categorical'\n",
    "    elif t == 'float64':\n",
    "        return 'Float'\n",
    "    elif t == 'int64' or 'uint8':\n",
    "        return'Int'\n",
    "    elif t == 'bool':\n",
    "        return'Boolean'\n",
    "    elif t == 'datetime64' or t == 'timedelta':\n",
    "        return'DateTime'"
   ]
  },
  {
   "cell_type": "code",
   "execution_count": 5,
   "metadata": {},
   "outputs": [],
   "source": [
    "DIFFERENCE = 0\n",
    "CURRENT_DSET = ''"
   ]
  },
  {
   "cell_type": "code",
   "execution_count": 6,
   "metadata": {},
   "outputs": [],
   "source": [
    "def generate_cols_and_data(dset, dset_name,target_columns, id_columns,used_ids):\n",
    "    global CURRENT_DSET, DIFFERENCE\n",
    "    used_ids.append(dset_name)\n",
    "    index_col = 0\n",
    "    print(\"!create %s:Dataset\" % dset_name)\n",
    "    used_rows = []\n",
    "    for col in dset.columns:\n",
    "        col_name=col.strip() \n",
    "        i = 1\n",
    "        while(col_name in used_ids):\n",
    "            col_name = col + str(i)\n",
    "            i+=1\n",
    "        print ('!create %s:Column' % col_name)\n",
    "        used_ids.append(col_name)\n",
    "        print (\"!%s.uri:=%s\" % (col_name,index_col))\n",
    "        print (\"!%s.name:='%s'\" % (col_name,col))\n",
    "        value_type = get_value_type(dset.dtypes[col])\n",
    "        print (\"!%s.type:=ValueType::%s\" % (col_name,value_type))\n",
    "        target_column = str(col in target_columns).lower()\n",
    "        print (\"!%s.target:=%s\" % (col_name,target_column))\n",
    "        id_column = str(col in id_columns).lower()\n",
    "        print (\"!%s.id:=%s\" % (col_name,id_column))\n",
    "        print(\"!insert (%s,%s) into DSCol\" % (dset_name, col_name))\n",
    "        index_row = 0\n",
    "        for item in dset[col]:\n",
    "            if value_type == 'Int' or value_type == 'Float':\n",
    "                data = 'num' + str(item)\n",
    "                i = 1\n",
    "                while(data in used_ids):\n",
    "                    data = 'num' + str(item) + str(i)\n",
    "                    i+=1\n",
    "            else:\n",
    "                data=item.strip()\n",
    "                i = 1\n",
    "                while(data in used_ids):\n",
    "                    data = item + str(i)\n",
    "                    i+=1\n",
    "            print ('!create %s:Data' % data)\n",
    "            used_ids.append(data)\n",
    "            print (\"!%s.value:='%s'\" % (data,item))\n",
    "            print (\"!insert (%s,%s) into DSData\" % (dset_name,data))\n",
    "            print (\"!insert (%s,%s) into DataCol\" % (data, col_name))\n",
    "            row_name = 'row' + str(index_row)\n",
    "            if dset_name != CURRENT_DSET:\n",
    "                i = 0\n",
    "                while (row_name in used_ids):\n",
    "                    row_name = 'row' + str(i)\n",
    "                    i+=1\n",
    "                DIFFERENCE = i - index_row\n",
    "                CURRENT_DSET = dset_name\n",
    "            else:\n",
    "                row_name = 'row' + str(index_row +  DIFFERENCE)\n",
    "            if row_name not in used_rows:\n",
    "                used_rows.append(row_name)\n",
    "                print(\"!create %s:Row\" % row_name)\n",
    "                print(\"!%s.uri:=%s\" % (row_name,index_row))\n",
    "                print(\"!insert (%s,%s) into DSRow\" %(dset_name,row_name))\n",
    "            print(\"!insert (%s, %s) into DataRow\" %(data, row_name))\n",
    "            index_row+=1\n",
    "        index_col+=1\n",
    "    used_ids = used_rows + used_ids\n",
    "    return (used_ids)"
   ]
  },
  {
   "cell_type": "code",
   "execution_count": 7,
   "metadata": {},
   "outputs": [],
   "source": [
    "def reset_vector():\n",
    "    return []"
   ]
  },
  {
   "cell_type": "code",
   "execution_count": 8,
   "metadata": {},
   "outputs": [],
   "source": [
    "colors = pd.read_csv('./colors.csv',sep=';').apply(lambda x: x.str.strip() if x.dtype == \"object\" else x)"
   ]
  },
  {
   "cell_type": "code",
   "execution_count": 9,
   "metadata": {
    "scrolled": false
   },
   "outputs": [
    {
     "data": {
      "text/html": [
       "<div>\n",
       "<style scoped>\n",
       "    .dataframe tbody tr th:only-of-type {\n",
       "        vertical-align: middle;\n",
       "    }\n",
       "\n",
       "    .dataframe tbody tr th {\n",
       "        vertical-align: top;\n",
       "    }\n",
       "\n",
       "    .dataframe thead th {\n",
       "        text-align: right;\n",
       "    }\n",
       "</style>\n",
       "<table border=\"1\" class=\"dataframe\">\n",
       "  <thead>\n",
       "    <tr style=\"text-align: right;\">\n",
       "      <th></th>\n",
       "      <th>COLOR</th>\n",
       "      <th>TALLA</th>\n",
       "    </tr>\n",
       "  </thead>\n",
       "  <tbody>\n",
       "    <tr>\n",
       "      <th>0</th>\n",
       "      <td>AZUL</td>\n",
       "      <td>L</td>\n",
       "    </tr>\n",
       "    <tr>\n",
       "      <th>1</th>\n",
       "      <td>BLANCO</td>\n",
       "      <td>M</td>\n",
       "    </tr>\n",
       "    <tr>\n",
       "      <th>2</th>\n",
       "      <td>NEGRO</td>\n",
       "      <td>S</td>\n",
       "    </tr>\n",
       "    <tr>\n",
       "      <th>3</th>\n",
       "      <td>AZUL</td>\n",
       "      <td>M</td>\n",
       "    </tr>\n",
       "    <tr>\n",
       "      <th>4</th>\n",
       "      <td>BLANCO</td>\n",
       "      <td>XL</td>\n",
       "    </tr>\n",
       "  </tbody>\n",
       "</table>\n",
       "</div>"
      ],
      "text/plain": [
       "    COLOR TALLA\n",
       "0    AZUL     L\n",
       "1  BLANCO     M\n",
       "2   NEGRO     S\n",
       "3    AZUL     M\n",
       "4  BLANCO    XL"
      ]
     },
     "execution_count": 9,
     "metadata": {},
     "output_type": "execute_result"
    }
   ],
   "source": [
    "colors"
   ]
  },
  {
   "cell_type": "code",
   "execution_count": 10,
   "metadata": {},
   "outputs": [],
   "source": [
    "from sklearn.model_selection import train_test_split"
   ]
  },
  {
   "cell_type": "code",
   "execution_count": 11,
   "metadata": {},
   "outputs": [],
   "source": [
    "X_train, X_test, y_train, y_test = train_test_split(\n",
    "    colors['COLOR'], colors['TALLA'], test_size=0.2, random_state=42)"
   ]
  },
  {
   "cell_type": "code",
   "execution_count": 12,
   "metadata": {},
   "outputs": [],
   "source": [
    "colors_1 = X_test.to_frame()\n",
    "colors_1['TALLA'] = y_test\n",
    "colors_2 = X_train.to_frame()\n",
    "colors_2['TALLA'] = y_train"
   ]
  },
  {
   "cell_type": "code",
   "execution_count": 13,
   "metadata": {},
   "outputs": [],
   "source": [
    "dset_name = 'colors'\n",
    "target_columns = []\n",
    "id_columns = []\n",
    "dset = colors\n",
    "used_ids = reset_vector()\n",
    "used_data = reset_vector()"
   ]
  },
  {
   "cell_type": "code",
   "execution_count": 14,
   "metadata": {
    "scrolled": true
   },
   "outputs": [
    {
     "name": "stdout",
     "output_type": "stream",
     "text": [
      "!create colors:Dataset\n",
      "!create COLOR:Column\n",
      "!COLOR.uri:=0\n",
      "!COLOR.name:='COLOR'\n",
      "!COLOR.type:=ValueType::Categorical\n",
      "!COLOR.target:=false\n",
      "!COLOR.id:=false\n",
      "!insert (colors,COLOR) into DSCol\n",
      "!create AZUL:Data\n",
      "!AZUL.value:='AZUL'\n",
      "!insert (colors,AZUL) into DSData\n",
      "!insert (AZUL,COLOR) into DataCol\n",
      "!create row0:Row\n",
      "!row0.uri:=0\n",
      "!insert (colors,row0) into DSRow\n",
      "!insert (AZUL, row0) into DataRow\n",
      "!create BLANCO:Data\n",
      "!BLANCO.value:='BLANCO'\n",
      "!insert (colors,BLANCO) into DSData\n",
      "!insert (BLANCO,COLOR) into DataCol\n",
      "!create row1:Row\n",
      "!row1.uri:=1\n",
      "!insert (colors,row1) into DSRow\n",
      "!insert (BLANCO, row1) into DataRow\n",
      "!create NEGRO:Data\n",
      "!NEGRO.value:='NEGRO'\n",
      "!insert (colors,NEGRO) into DSData\n",
      "!insert (NEGRO,COLOR) into DataCol\n",
      "!create row2:Row\n",
      "!row2.uri:=2\n",
      "!insert (colors,row2) into DSRow\n",
      "!insert (NEGRO, row2) into DataRow\n",
      "!create AZUL1:Data\n",
      "!AZUL1.value:='AZUL'\n",
      "!insert (colors,AZUL1) into DSData\n",
      "!insert (AZUL1,COLOR) into DataCol\n",
      "!create row3:Row\n",
      "!row3.uri:=3\n",
      "!insert (colors,row3) into DSRow\n",
      "!insert (AZUL1, row3) into DataRow\n",
      "!create BLANCO1:Data\n",
      "!BLANCO1.value:='BLANCO'\n",
      "!insert (colors,BLANCO1) into DSData\n",
      "!insert (BLANCO1,COLOR) into DataCol\n",
      "!create row4:Row\n",
      "!row4.uri:=4\n",
      "!insert (colors,row4) into DSRow\n",
      "!insert (BLANCO1, row4) into DataRow\n",
      "!create TALLA:Column\n",
      "!TALLA.uri:=1\n",
      "!TALLA.name:='TALLA'\n",
      "!TALLA.type:=ValueType::Categorical\n",
      "!TALLA.target:=false\n",
      "!TALLA.id:=false\n",
      "!insert (colors,TALLA) into DSCol\n",
      "!create L:Data\n",
      "!L.value:='L'\n",
      "!insert (colors,L) into DSData\n",
      "!insert (L,TALLA) into DataCol\n",
      "!insert (L, row0) into DataRow\n",
      "!create M:Data\n",
      "!M.value:='M'\n",
      "!insert (colors,M) into DSData\n",
      "!insert (M,TALLA) into DataCol\n",
      "!insert (M, row1) into DataRow\n",
      "!create S:Data\n",
      "!S.value:='S'\n",
      "!insert (colors,S) into DSData\n",
      "!insert (S,TALLA) into DataCol\n",
      "!insert (S, row2) into DataRow\n",
      "!create M1:Data\n",
      "!M1.value:='M'\n",
      "!insert (colors,M1) into DSData\n",
      "!insert (M1,TALLA) into DataCol\n",
      "!insert (M1, row3) into DataRow\n",
      "!create XL:Data\n",
      "!XL.value:='XL'\n",
      "!insert (colors,XL) into DSData\n",
      "!insert (XL,TALLA) into DataCol\n",
      "!insert (XL, row4) into DataRow\n"
     ]
    }
   ],
   "source": [
    "used_ids = generate_cols_and_data(dset, dset_name, target_columns, id_columns, used_ids)"
   ]
  },
  {
   "cell_type": "code",
   "execution_count": 15,
   "metadata": {
    "scrolled": true
   },
   "outputs": [],
   "source": [
    "dset_name = 'colors_out_1'\n",
    "target_columns = []\n",
    "id_columns = []\n",
    "dset = colors_1"
   ]
  },
  {
   "cell_type": "code",
   "execution_count": 16,
   "metadata": {},
   "outputs": [
    {
     "name": "stdout",
     "output_type": "stream",
     "text": [
      "!create colors_out_1:Dataset\n",
      "!create COLOR1:Column\n",
      "!COLOR1.uri:=0\n",
      "!COLOR1.name:='COLOR'\n",
      "!COLOR1.type:=ValueType::Categorical\n",
      "!COLOR1.target:=false\n",
      "!COLOR1.id:=false\n",
      "!insert (colors_out_1,COLOR1) into DSCol\n",
      "!create BLANCO2:Data\n",
      "!BLANCO2.value:='BLANCO'\n",
      "!insert (colors_out_1,BLANCO2) into DSData\n",
      "!insert (BLANCO2,COLOR1) into DataCol\n",
      "!create row5:Row\n",
      "!row5.uri:=0\n",
      "!insert (colors_out_1,row5) into DSRow\n",
      "!insert (BLANCO2, row5) into DataRow\n",
      "!create TALLA1:Column\n",
      "!TALLA1.uri:=1\n",
      "!TALLA1.name:='TALLA'\n",
      "!TALLA1.type:=ValueType::Categorical\n",
      "!TALLA1.target:=false\n",
      "!TALLA1.id:=false\n",
      "!insert (colors_out_1,TALLA1) into DSCol\n",
      "!create M2:Data\n",
      "!M2.value:='M'\n",
      "!insert (colors_out_1,M2) into DSData\n",
      "!insert (M2,TALLA1) into DataCol\n",
      "!create row6:Row\n",
      "!row6.uri:=0\n",
      "!insert (colors_out_1,row6) into DSRow\n",
      "!insert (M2, row6) into DataRow\n"
     ]
    }
   ],
   "source": [
    "used_ids = generate_cols_and_data(dset, dset_name, target_columns, id_columns, used_ids)\n"
   ]
  },
  {
   "cell_type": "code",
   "execution_count": 17,
   "metadata": {},
   "outputs": [],
   "source": [
    "dset_name = 'colors_out_2'\n",
    "target_columns = []\n",
    "id_columns = []\n",
    "dset = colors_2"
   ]
  },
  {
   "cell_type": "code",
   "execution_count": 18,
   "metadata": {},
   "outputs": [
    {
     "name": "stdout",
     "output_type": "stream",
     "text": [
      "!create colors_out_2:Dataset\n",
      "!create COLOR2:Column\n",
      "!COLOR2.uri:=0\n",
      "!COLOR2.name:='COLOR'\n",
      "!COLOR2.type:=ValueType::Categorical\n",
      "!COLOR2.target:=false\n",
      "!COLOR2.id:=false\n",
      "!insert (colors_out_2,COLOR2) into DSCol\n",
      "!create BLANCO3:Data\n",
      "!BLANCO3.value:='BLANCO'\n",
      "!insert (colors_out_2,BLANCO3) into DSData\n",
      "!insert (BLANCO3,COLOR2) into DataCol\n",
      "!create row7:Row\n",
      "!row7.uri:=0\n",
      "!insert (colors_out_2,row7) into DSRow\n",
      "!insert (BLANCO3, row7) into DataRow\n",
      "!create NEGRO1:Data\n",
      "!NEGRO1.value:='NEGRO'\n",
      "!insert (colors_out_2,NEGRO1) into DSData\n",
      "!insert (NEGRO1,COLOR2) into DataCol\n",
      "!create row9:Row\n",
      "!row9.uri:=1\n",
      "!insert (colors_out_2,row9) into DSRow\n",
      "!insert (NEGRO1, row9) into DataRow\n",
      "!create AZUL2:Data\n",
      "!AZUL2.value:='AZUL'\n",
      "!insert (colors_out_2,AZUL2) into DSData\n",
      "!insert (AZUL2,COLOR2) into DataCol\n",
      "!create row10:Row\n",
      "!row10.uri:=2\n",
      "!insert (colors_out_2,row10) into DSRow\n",
      "!insert (AZUL2, row10) into DataRow\n",
      "!create AZUL3:Data\n",
      "!AZUL3.value:='AZUL'\n",
      "!insert (colors_out_2,AZUL3) into DSData\n",
      "!insert (AZUL3,COLOR2) into DataCol\n",
      "!create row11:Row\n",
      "!row11.uri:=3\n",
      "!insert (colors_out_2,row11) into DSRow\n",
      "!insert (AZUL3, row11) into DataRow\n",
      "!create TALLA2:Column\n",
      "!TALLA2.uri:=1\n",
      "!TALLA2.name:='TALLA'\n",
      "!TALLA2.type:=ValueType::Categorical\n",
      "!TALLA2.target:=false\n",
      "!TALLA2.id:=false\n",
      "!insert (colors_out_2,TALLA2) into DSCol\n",
      "!create XL1:Data\n",
      "!XL1.value:='XL'\n",
      "!insert (colors_out_2,XL1) into DSData\n",
      "!insert (XL1,TALLA2) into DataCol\n",
      "!create row8:Row\n",
      "!row8.uri:=0\n",
      "!insert (colors_out_2,row8) into DSRow\n",
      "!insert (XL1, row8) into DataRow\n",
      "!create S1:Data\n",
      "!S1.value:='S'\n",
      "!insert (colors_out_2,S1) into DSData\n",
      "!insert (S1,TALLA2) into DataCol\n",
      "!insert (S1, row9) into DataRow\n",
      "!create L1:Data\n",
      "!L1.value:='L'\n",
      "!insert (colors_out_2,L1) into DSData\n",
      "!insert (L1,TALLA2) into DataCol\n",
      "!insert (L1, row10) into DataRow\n",
      "!create M3:Data\n",
      "!M3.value:='M'\n",
      "!insert (colors_out_2,M3) into DSData\n",
      "!insert (M3,TALLA2) into DataCol\n",
      "!insert (M3, row11) into DataRow\n"
     ]
    }
   ],
   "source": [
    "used_ids = generate_cols_and_data(dset, dset_name, target_columns, id_columns, used_ids)"
   ]
  },
  {
   "cell_type": "code",
   "execution_count": 19,
   "metadata": {},
   "outputs": [
    {
     "data": {
      "text/html": [
       "<div>\n",
       "<style scoped>\n",
       "    .dataframe tbody tr th:only-of-type {\n",
       "        vertical-align: middle;\n",
       "    }\n",
       "\n",
       "    .dataframe tbody tr th {\n",
       "        vertical-align: top;\n",
       "    }\n",
       "\n",
       "    .dataframe thead th {\n",
       "        text-align: right;\n",
       "    }\n",
       "</style>\n",
       "<table border=\"1\" class=\"dataframe\">\n",
       "  <thead>\n",
       "    <tr style=\"text-align: right;\">\n",
       "      <th></th>\n",
       "      <th>COLOR</th>\n",
       "      <th>TALLA</th>\n",
       "    </tr>\n",
       "  </thead>\n",
       "  <tbody>\n",
       "    <tr>\n",
       "      <th>0</th>\n",
       "      <td>AZUL</td>\n",
       "      <td>L</td>\n",
       "    </tr>\n",
       "    <tr>\n",
       "      <th>1</th>\n",
       "      <td>BLANCO</td>\n",
       "      <td>M</td>\n",
       "    </tr>\n",
       "    <tr>\n",
       "      <th>2</th>\n",
       "      <td>NEGRO</td>\n",
       "      <td>S</td>\n",
       "    </tr>\n",
       "    <tr>\n",
       "      <th>3</th>\n",
       "      <td>AZUL</td>\n",
       "      <td>M</td>\n",
       "    </tr>\n",
       "    <tr>\n",
       "      <th>4</th>\n",
       "      <td>BLANCO</td>\n",
       "      <td>XL</td>\n",
       "    </tr>\n",
       "  </tbody>\n",
       "</table>\n",
       "</div>"
      ],
      "text/plain": [
       "    COLOR TALLA\n",
       "0    AZUL     L\n",
       "1  BLANCO     M\n",
       "2   NEGRO     S\n",
       "3    AZUL     M\n",
       "4  BLANCO    XL"
      ]
     },
     "execution_count": 19,
     "metadata": {},
     "output_type": "execute_result"
    }
   ],
   "source": [
    "colors"
   ]
  },
  {
   "cell_type": "code",
   "execution_count": 20,
   "metadata": {},
   "outputs": [],
   "source": [
    "one_hot_input = colors['COLOR'].to_frame()"
   ]
  },
  {
   "cell_type": "code",
   "execution_count": 21,
   "metadata": {},
   "outputs": [
    {
     "data": {
      "text/html": [
       "<div>\n",
       "<style scoped>\n",
       "    .dataframe tbody tr th:only-of-type {\n",
       "        vertical-align: middle;\n",
       "    }\n",
       "\n",
       "    .dataframe tbody tr th {\n",
       "        vertical-align: top;\n",
       "    }\n",
       "\n",
       "    .dataframe thead th {\n",
       "        text-align: right;\n",
       "    }\n",
       "</style>\n",
       "<table border=\"1\" class=\"dataframe\">\n",
       "  <thead>\n",
       "    <tr style=\"text-align: right;\">\n",
       "      <th></th>\n",
       "      <th>COLOR</th>\n",
       "    </tr>\n",
       "  </thead>\n",
       "  <tbody>\n",
       "    <tr>\n",
       "      <th>0</th>\n",
       "      <td>AZUL</td>\n",
       "    </tr>\n",
       "    <tr>\n",
       "      <th>1</th>\n",
       "      <td>BLANCO</td>\n",
       "    </tr>\n",
       "    <tr>\n",
       "      <th>2</th>\n",
       "      <td>NEGRO</td>\n",
       "    </tr>\n",
       "    <tr>\n",
       "      <th>3</th>\n",
       "      <td>AZUL</td>\n",
       "    </tr>\n",
       "    <tr>\n",
       "      <th>4</th>\n",
       "      <td>BLANCO</td>\n",
       "    </tr>\n",
       "  </tbody>\n",
       "</table>\n",
       "</div>"
      ],
      "text/plain": [
       "    COLOR\n",
       "0    AZUL\n",
       "1  BLANCO\n",
       "2   NEGRO\n",
       "3    AZUL\n",
       "4  BLANCO"
      ]
     },
     "execution_count": 21,
     "metadata": {},
     "output_type": "execute_result"
    }
   ],
   "source": [
    "one_hot_input"
   ]
  },
  {
   "cell_type": "code",
   "execution_count": 22,
   "metadata": {
    "scrolled": true
   },
   "outputs": [],
   "source": [
    "one_hot_output = pd.get_dummies(one_hot_input['COLOR'],prefix='').rename(columns={\"_AZUL\": \"AZUL\",\"_BLANCO\" : \"BLANCO\", \"_NEGRO\":\"NEGRO\"})"
   ]
  },
  {
   "cell_type": "code",
   "execution_count": 23,
   "metadata": {},
   "outputs": [],
   "source": [
    "one_hot_output['COLOR'] = colors['COLOR']"
   ]
  },
  {
   "cell_type": "code",
   "execution_count": 24,
   "metadata": {},
   "outputs": [],
   "source": [
    "one_hot_output = one_hot_output[['COLOR','AZUL','BLANCO','NEGRO']]"
   ]
  },
  {
   "cell_type": "code",
   "execution_count": 25,
   "metadata": {},
   "outputs": [],
   "source": [
    "colors_one_hot = colors"
   ]
  },
  {
   "cell_type": "code",
   "execution_count": 26,
   "metadata": {
    "scrolled": true
   },
   "outputs": [
    {
     "data": {
      "text/html": [
       "<div>\n",
       "<style scoped>\n",
       "    .dataframe tbody tr th:only-of-type {\n",
       "        vertical-align: middle;\n",
       "    }\n",
       "\n",
       "    .dataframe tbody tr th {\n",
       "        vertical-align: top;\n",
       "    }\n",
       "\n",
       "    .dataframe thead th {\n",
       "        text-align: right;\n",
       "    }\n",
       "</style>\n",
       "<table border=\"1\" class=\"dataframe\">\n",
       "  <thead>\n",
       "    <tr style=\"text-align: right;\">\n",
       "      <th></th>\n",
       "      <th>COLOR</th>\n",
       "      <th>AZUL</th>\n",
       "      <th>BLANCO</th>\n",
       "      <th>NEGRO</th>\n",
       "    </tr>\n",
       "  </thead>\n",
       "  <tbody>\n",
       "    <tr>\n",
       "      <th>0</th>\n",
       "      <td>AZUL</td>\n",
       "      <td>1</td>\n",
       "      <td>0</td>\n",
       "      <td>0</td>\n",
       "    </tr>\n",
       "    <tr>\n",
       "      <th>1</th>\n",
       "      <td>BLANCO</td>\n",
       "      <td>0</td>\n",
       "      <td>1</td>\n",
       "      <td>0</td>\n",
       "    </tr>\n",
       "    <tr>\n",
       "      <th>2</th>\n",
       "      <td>NEGRO</td>\n",
       "      <td>0</td>\n",
       "      <td>0</td>\n",
       "      <td>1</td>\n",
       "    </tr>\n",
       "    <tr>\n",
       "      <th>3</th>\n",
       "      <td>AZUL</td>\n",
       "      <td>1</td>\n",
       "      <td>0</td>\n",
       "      <td>0</td>\n",
       "    </tr>\n",
       "    <tr>\n",
       "      <th>4</th>\n",
       "      <td>BLANCO</td>\n",
       "      <td>0</td>\n",
       "      <td>1</td>\n",
       "      <td>0</td>\n",
       "    </tr>\n",
       "  </tbody>\n",
       "</table>\n",
       "</div>"
      ],
      "text/plain": [
       "    COLOR  AZUL  BLANCO  NEGRO\n",
       "0    AZUL     1       0      0\n",
       "1  BLANCO     0       1      0\n",
       "2   NEGRO     0       0      1\n",
       "3    AZUL     1       0      0\n",
       "4  BLANCO     0       1      0"
      ]
     },
     "execution_count": 26,
     "metadata": {},
     "output_type": "execute_result"
    }
   ],
   "source": [
    "one_hot_output"
   ]
  },
  {
   "cell_type": "code",
   "execution_count": 27,
   "metadata": {},
   "outputs": [],
   "source": [
    "dset_name = 'onehot_input'\n",
    "target_columns = []\n",
    "id_columns = []\n",
    "dset = one_hot_input\n",
    "used_ids = reset_vector()\n",
    "used_data = reset_vector()"
   ]
  },
  {
   "cell_type": "code",
   "execution_count": 28,
   "metadata": {},
   "outputs": [
    {
     "name": "stdout",
     "output_type": "stream",
     "text": [
      "!create onehot_input:Dataset\n",
      "!create COLOR:Column\n",
      "!COLOR.uri:=0\n",
      "!COLOR.name:='COLOR'\n",
      "!COLOR.type:=ValueType::Categorical\n",
      "!COLOR.target:=false\n",
      "!COLOR.id:=false\n",
      "!insert (onehot_input,COLOR) into DSCol\n",
      "!create AZUL:Data\n",
      "!AZUL.value:='AZUL'\n",
      "!insert (onehot_input,AZUL) into DSData\n",
      "!insert (AZUL,COLOR) into DataCol\n",
      "!create row0:Row\n",
      "!row0.uri:=0\n",
      "!insert (onehot_input,row0) into DSRow\n",
      "!insert (AZUL, row0) into DataRow\n",
      "!create BLANCO:Data\n",
      "!BLANCO.value:='BLANCO'\n",
      "!insert (onehot_input,BLANCO) into DSData\n",
      "!insert (BLANCO,COLOR) into DataCol\n",
      "!create row1:Row\n",
      "!row1.uri:=1\n",
      "!insert (onehot_input,row1) into DSRow\n",
      "!insert (BLANCO, row1) into DataRow\n",
      "!create NEGRO:Data\n",
      "!NEGRO.value:='NEGRO'\n",
      "!insert (onehot_input,NEGRO) into DSData\n",
      "!insert (NEGRO,COLOR) into DataCol\n",
      "!create row2:Row\n",
      "!row2.uri:=2\n",
      "!insert (onehot_input,row2) into DSRow\n",
      "!insert (NEGRO, row2) into DataRow\n",
      "!create AZUL1:Data\n",
      "!AZUL1.value:='AZUL'\n",
      "!insert (onehot_input,AZUL1) into DSData\n",
      "!insert (AZUL1,COLOR) into DataCol\n",
      "!create row3:Row\n",
      "!row3.uri:=3\n",
      "!insert (onehot_input,row3) into DSRow\n",
      "!insert (AZUL1, row3) into DataRow\n",
      "!create BLANCO1:Data\n",
      "!BLANCO1.value:='BLANCO'\n",
      "!insert (onehot_input,BLANCO1) into DSData\n",
      "!insert (BLANCO1,COLOR) into DataCol\n",
      "!create row4:Row\n",
      "!row4.uri:=4\n",
      "!insert (onehot_input,row4) into DSRow\n",
      "!insert (BLANCO1, row4) into DataRow\n"
     ]
    }
   ],
   "source": [
    "used_ids = generate_cols_and_data(dset, dset_name, target_columns, id_columns, used_ids)"
   ]
  },
  {
   "cell_type": "code",
   "execution_count": 29,
   "metadata": {},
   "outputs": [],
   "source": [
    "dset_name = 'onehot_output'\n",
    "target_columns = []\n",
    "id_columns = []\n",
    "dset = one_hot_output"
   ]
  },
  {
   "cell_type": "code",
   "execution_count": 30,
   "metadata": {},
   "outputs": [
    {
     "data": {
      "text/html": [
       "<div>\n",
       "<style scoped>\n",
       "    .dataframe tbody tr th:only-of-type {\n",
       "        vertical-align: middle;\n",
       "    }\n",
       "\n",
       "    .dataframe tbody tr th {\n",
       "        vertical-align: top;\n",
       "    }\n",
       "\n",
       "    .dataframe thead th {\n",
       "        text-align: right;\n",
       "    }\n",
       "</style>\n",
       "<table border=\"1\" class=\"dataframe\">\n",
       "  <thead>\n",
       "    <tr style=\"text-align: right;\">\n",
       "      <th></th>\n",
       "      <th>COLOR</th>\n",
       "      <th>AZUL</th>\n",
       "      <th>BLANCO</th>\n",
       "      <th>NEGRO</th>\n",
       "    </tr>\n",
       "  </thead>\n",
       "  <tbody>\n",
       "    <tr>\n",
       "      <th>0</th>\n",
       "      <td>AZUL</td>\n",
       "      <td>1</td>\n",
       "      <td>0</td>\n",
       "      <td>0</td>\n",
       "    </tr>\n",
       "    <tr>\n",
       "      <th>1</th>\n",
       "      <td>BLANCO</td>\n",
       "      <td>0</td>\n",
       "      <td>1</td>\n",
       "      <td>0</td>\n",
       "    </tr>\n",
       "    <tr>\n",
       "      <th>2</th>\n",
       "      <td>NEGRO</td>\n",
       "      <td>0</td>\n",
       "      <td>0</td>\n",
       "      <td>1</td>\n",
       "    </tr>\n",
       "    <tr>\n",
       "      <th>3</th>\n",
       "      <td>AZUL</td>\n",
       "      <td>1</td>\n",
       "      <td>0</td>\n",
       "      <td>0</td>\n",
       "    </tr>\n",
       "    <tr>\n",
       "      <th>4</th>\n",
       "      <td>BLANCO</td>\n",
       "      <td>0</td>\n",
       "      <td>1</td>\n",
       "      <td>0</td>\n",
       "    </tr>\n",
       "  </tbody>\n",
       "</table>\n",
       "</div>"
      ],
      "text/plain": [
       "    COLOR  AZUL  BLANCO  NEGRO\n",
       "0    AZUL     1       0      0\n",
       "1  BLANCO     0       1      0\n",
       "2   NEGRO     0       0      1\n",
       "3    AZUL     1       0      0\n",
       "4  BLANCO     0       1      0"
      ]
     },
     "execution_count": 30,
     "metadata": {},
     "output_type": "execute_result"
    }
   ],
   "source": [
    "dset"
   ]
  },
  {
   "cell_type": "code",
   "execution_count": 31,
   "metadata": {
    "scrolled": false
   },
   "outputs": [
    {
     "name": "stdout",
     "output_type": "stream",
     "text": [
      "!create onehot_output:Dataset\n",
      "!create COLOR1:Column\n",
      "!COLOR1.uri:=0\n",
      "!COLOR1.name:='COLOR'\n",
      "!COLOR1.type:=ValueType::Categorical\n",
      "!COLOR1.target:=false\n",
      "!COLOR1.id:=false\n",
      "!insert (onehot_output,COLOR1) into DSCol\n",
      "!create AZUL2:Data\n",
      "!AZUL2.value:='AZUL'\n",
      "!insert (onehot_output,AZUL2) into DSData\n",
      "!insert (AZUL2,COLOR1) into DataCol\n",
      "!create row5:Row\n",
      "!row5.uri:=0\n",
      "!insert (onehot_output,row5) into DSRow\n",
      "!insert (AZUL2, row5) into DataRow\n",
      "!create BLANCO2:Data\n",
      "!BLANCO2.value:='BLANCO'\n",
      "!insert (onehot_output,BLANCO2) into DSData\n",
      "!insert (BLANCO2,COLOR1) into DataCol\n",
      "!create row7:Row\n",
      "!row7.uri:=1\n",
      "!insert (onehot_output,row7) into DSRow\n",
      "!insert (BLANCO2, row7) into DataRow\n",
      "!create NEGRO1:Data\n",
      "!NEGRO1.value:='NEGRO'\n",
      "!insert (onehot_output,NEGRO1) into DSData\n",
      "!insert (NEGRO1,COLOR1) into DataCol\n",
      "!create row8:Row\n",
      "!row8.uri:=2\n",
      "!insert (onehot_output,row8) into DSRow\n",
      "!insert (NEGRO1, row8) into DataRow\n",
      "!create AZUL3:Data\n",
      "!AZUL3.value:='AZUL'\n",
      "!insert (onehot_output,AZUL3) into DSData\n",
      "!insert (AZUL3,COLOR1) into DataCol\n",
      "!create row9:Row\n",
      "!row9.uri:=3\n",
      "!insert (onehot_output,row9) into DSRow\n",
      "!insert (AZUL3, row9) into DataRow\n",
      "!create BLANCO3:Data\n",
      "!BLANCO3.value:='BLANCO'\n",
      "!insert (onehot_output,BLANCO3) into DSData\n",
      "!insert (BLANCO3,COLOR1) into DataCol\n",
      "!create row10:Row\n",
      "!row10.uri:=4\n",
      "!insert (onehot_output,row10) into DSRow\n",
      "!insert (BLANCO3, row10) into DataRow\n",
      "!create AZUL4:Column\n",
      "!AZUL4.uri:=1\n",
      "!AZUL4.name:='AZUL'\n",
      "!AZUL4.type:=ValueType::Int\n",
      "!AZUL4.target:=false\n",
      "!AZUL4.id:=false\n",
      "!insert (onehot_output,AZUL4) into DSCol\n",
      "!create num1:Data\n",
      "!num1.value:='1'\n",
      "!insert (onehot_output,num1) into DSData\n",
      "!insert (num1,AZUL4) into DataCol\n",
      "!create row6:Row\n",
      "!row6.uri:=0\n",
      "!insert (onehot_output,row6) into DSRow\n",
      "!insert (num1, row6) into DataRow\n",
      "!create num0:Data\n",
      "!num0.value:='0'\n",
      "!insert (onehot_output,num0) into DSData\n",
      "!insert (num0,AZUL4) into DataCol\n",
      "!insert (num0, row7) into DataRow\n",
      "!create num01:Data\n",
      "!num01.value:='0'\n",
      "!insert (onehot_output,num01) into DSData\n",
      "!insert (num01,AZUL4) into DataCol\n",
      "!insert (num01, row8) into DataRow\n",
      "!create num11:Data\n",
      "!num11.value:='1'\n",
      "!insert (onehot_output,num11) into DSData\n",
      "!insert (num11,AZUL4) into DataCol\n",
      "!insert (num11, row9) into DataRow\n",
      "!create num02:Data\n",
      "!num02.value:='0'\n",
      "!insert (onehot_output,num02) into DSData\n",
      "!insert (num02,AZUL4) into DataCol\n",
      "!insert (num02, row10) into DataRow\n",
      "!create BLANCO4:Column\n",
      "!BLANCO4.uri:=2\n",
      "!BLANCO4.name:='BLANCO'\n",
      "!BLANCO4.type:=ValueType::Int\n",
      "!BLANCO4.target:=false\n",
      "!BLANCO4.id:=false\n",
      "!insert (onehot_output,BLANCO4) into DSCol\n",
      "!create num03:Data\n",
      "!num03.value:='0'\n",
      "!insert (onehot_output,num03) into DSData\n",
      "!insert (num03,BLANCO4) into DataCol\n",
      "!insert (num03, row6) into DataRow\n",
      "!create num12:Data\n",
      "!num12.value:='1'\n",
      "!insert (onehot_output,num12) into DSData\n",
      "!insert (num12,BLANCO4) into DataCol\n",
      "!insert (num12, row7) into DataRow\n",
      "!create num04:Data\n",
      "!num04.value:='0'\n",
      "!insert (onehot_output,num04) into DSData\n",
      "!insert (num04,BLANCO4) into DataCol\n",
      "!insert (num04, row8) into DataRow\n",
      "!create num05:Data\n",
      "!num05.value:='0'\n",
      "!insert (onehot_output,num05) into DSData\n",
      "!insert (num05,BLANCO4) into DataCol\n",
      "!insert (num05, row9) into DataRow\n",
      "!create num13:Data\n",
      "!num13.value:='1'\n",
      "!insert (onehot_output,num13) into DSData\n",
      "!insert (num13,BLANCO4) into DataCol\n",
      "!insert (num13, row10) into DataRow\n",
      "!create NEGRO2:Column\n",
      "!NEGRO2.uri:=3\n",
      "!NEGRO2.name:='NEGRO'\n",
      "!NEGRO2.type:=ValueType::Int\n",
      "!NEGRO2.target:=false\n",
      "!NEGRO2.id:=false\n",
      "!insert (onehot_output,NEGRO2) into DSCol\n",
      "!create num06:Data\n",
      "!num06.value:='0'\n",
      "!insert (onehot_output,num06) into DSData\n",
      "!insert (num06,NEGRO2) into DataCol\n",
      "!insert (num06, row6) into DataRow\n",
      "!create num07:Data\n",
      "!num07.value:='0'\n",
      "!insert (onehot_output,num07) into DSData\n",
      "!insert (num07,NEGRO2) into DataCol\n",
      "!insert (num07, row7) into DataRow\n",
      "!create num14:Data\n",
      "!num14.value:='1'\n",
      "!insert (onehot_output,num14) into DSData\n",
      "!insert (num14,NEGRO2) into DataCol\n",
      "!insert (num14, row8) into DataRow\n",
      "!create num08:Data\n",
      "!num08.value:='0'\n",
      "!insert (onehot_output,num08) into DSData\n",
      "!insert (num08,NEGRO2) into DataCol\n",
      "!insert (num08, row9) into DataRow\n",
      "!create num09:Data\n",
      "!num09.value:='0'\n",
      "!insert (onehot_output,num09) into DSData\n",
      "!insert (num09,NEGRO2) into DataCol\n",
      "!insert (num09, row10) into DataRow\n"
     ]
    }
   ],
   "source": [
    "used_ids = generate_cols_and_data(dset, dset_name, target_columns, id_columns, used_ids)"
   ]
  },
  {
   "cell_type": "code",
   "execution_count": null,
   "metadata": {},
   "outputs": [],
   "source": []
  }
 ],
 "metadata": {
  "kernelspec": {
   "display_name": "Python 3",
   "language": "python",
   "name": "python3"
  },
  "language_info": {
   "codemirror_mode": {
    "name": "ipython",
    "version": 3
   },
   "file_extension": ".py",
   "mimetype": "text/x-python",
   "name": "python",
   "nbconvert_exporter": "python",
   "pygments_lexer": "ipython3",
   "version": "3.8.10"
  }
 },
 "nbformat": 4,
 "nbformat_minor": 4
}
