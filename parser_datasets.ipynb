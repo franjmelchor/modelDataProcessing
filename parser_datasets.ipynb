{
 "cells": [
  {
   "cell_type": "code",
   "execution_count": 1,
   "metadata": {},
   "outputs": [],
   "source": [
    "import pandas as pd"
   ]
  },
  {
   "cell_type": "code",
   "execution_count": 2,
   "metadata": {},
   "outputs": [],
   "source": [
    "dset = pd.read_csv('./colors.csv',sep=';').apply(lambda x: x.str.strip() if x.dtype == \"object\" else x)"
   ]
  },
  {
   "cell_type": "code",
   "execution_count": 3,
   "metadata": {
    "scrolled": true
   },
   "outputs": [
    {
     "data": {
      "text/html": [
       "<div>\n",
       "<style scoped>\n",
       "    .dataframe tbody tr th:only-of-type {\n",
       "        vertical-align: middle;\n",
       "    }\n",
       "\n",
       "    .dataframe tbody tr th {\n",
       "        vertical-align: top;\n",
       "    }\n",
       "\n",
       "    .dataframe thead th {\n",
       "        text-align: right;\n",
       "    }\n",
       "</style>\n",
       "<table border=\"1\" class=\"dataframe\">\n",
       "  <thead>\n",
       "    <tr style=\"text-align: right;\">\n",
       "      <th></th>\n",
       "      <th>COLOR</th>\n",
       "      <th>TALLA</th>\n",
       "    </tr>\n",
       "  </thead>\n",
       "  <tbody>\n",
       "    <tr>\n",
       "      <th>0</th>\n",
       "      <td>AZUL</td>\n",
       "      <td>L</td>\n",
       "    </tr>\n",
       "    <tr>\n",
       "      <th>1</th>\n",
       "      <td>BLANCO</td>\n",
       "      <td>M</td>\n",
       "    </tr>\n",
       "    <tr>\n",
       "      <th>2</th>\n",
       "      <td>NEGRO</td>\n",
       "      <td>S</td>\n",
       "    </tr>\n",
       "    <tr>\n",
       "      <th>3</th>\n",
       "      <td>AZUL</td>\n",
       "      <td>M</td>\n",
       "    </tr>\n",
       "    <tr>\n",
       "      <th>4</th>\n",
       "      <td>BLANCO</td>\n",
       "      <td>XL</td>\n",
       "    </tr>\n",
       "  </tbody>\n",
       "</table>\n",
       "</div>"
      ],
      "text/plain": [
       "    COLOR TALLA\n",
       "0    AZUL     L\n",
       "1  BLANCO     M\n",
       "2   NEGRO     S\n",
       "3    AZUL     M\n",
       "4  BLANCO    XL"
      ]
     },
     "execution_count": 3,
     "metadata": {},
     "output_type": "execute_result"
    }
   ],
   "source": [
    "dset"
   ]
  },
  {
   "cell_type": "code",
   "execution_count": 19,
   "metadata": {
    "scrolled": false
   },
   "outputs": [],
   "source": [
    "def get_value_type(t):\n",
    "    if t == 'object' or t == 'category':\n",
    "        return 'Categorical'\n",
    "    elif t == 'float64':\n",
    "        return 'Float'\n",
    "    elif t == 'int64':\n",
    "        return'Int'\n",
    "    elif t == 'bool':\n",
    "        return'Boolean'\n",
    "    elif t == 'datetime64' or t == 'timedelta':\n",
    "        return'DateTime'"
   ]
  },
  {
   "cell_type": "code",
   "execution_count": 31,
   "metadata": {},
   "outputs": [],
   "source": [
    "dset_name = 'colors'\n",
    "target_columns = []\n",
    "id_columns = []"
   ]
  },
  {
   "cell_type": "code",
   "execution_count": 32,
   "metadata": {
    "scrolled": true
   },
   "outputs": [
    {
     "name": "stdout",
     "output_type": "stream",
     "text": [
      "!create colors:Dataset\n",
      "!create COLOR:Column\n",
      "!COLOR.uri:=0\n",
      "!COLOR.name:='COLOR'\n",
      "!COLOR.type:='Categorical'\n",
      "!COLOR.target:='False'\n",
      "!COLOR.id:='False'\n",
      "!insert (colors,COLOR) into DSCol\n",
      "!create AZUL:Data\n",
      "!AZUL.value:='AZUL'\n",
      "!insert (colors,AZUL) into DSData\n",
      "!insert (AZUL,COLOR) into DataCol\n",
      "!create BLANCO:Data\n",
      "!BLANCO.value:='BLANCO'\n",
      "!insert (colors,BLANCO) into DSData\n",
      "!insert (BLANCO,COLOR) into DataCol\n",
      "!create NEGRO:Data\n",
      "!NEGRO.value:='NEGRO'\n",
      "!insert (colors,NEGRO) into DSData\n",
      "!insert (NEGRO,COLOR) into DataCol\n",
      "!create AZUL1:Data\n",
      "!AZUL1.value:='AZUL'\n",
      "!insert (colors,AZUL1) into DSData\n",
      "!insert (AZUL1,COLOR) into DataCol\n",
      "!create BLANCO1:Data\n",
      "!BLANCO1.value:='BLANCO'\n",
      "!insert (colors,BLANCO1) into DSData\n",
      "!insert (BLANCO1,COLOR) into DataCol\n",
      "!create TALLA:Column\n",
      "!TALLA.uri:=1\n",
      "!TALLA.name:='TALLA'\n",
      "!TALLA.type:='Categorical'\n",
      "!TALLA.target:='False'\n",
      "!TALLA.id:='False'\n",
      "!insert (colors,TALLA) into DSCol\n",
      "!create L:Data\n",
      "!L.value:='L'\n",
      "!insert (colors,L) into DSData\n",
      "!insert (L,TALLA) into DataCol\n",
      "!create M:Data\n",
      "!M.value:='M'\n",
      "!insert (colors,M) into DSData\n",
      "!insert (M,TALLA) into DataCol\n",
      "!create S:Data\n",
      "!S.value:='S'\n",
      "!insert (colors,S) into DSData\n",
      "!insert (S,TALLA) into DataCol\n",
      "!create M1:Data\n",
      "!M1.value:='M'\n",
      "!insert (colors,M1) into DSData\n",
      "!insert (M1,TALLA) into DataCol\n",
      "!create XL:Data\n",
      "!XL.value:='XL'\n",
      "!insert (colors,XL) into DSData\n",
      "!insert (XL,TALLA) into DataCol\n"
     ]
    }
   ],
   "source": [
    "used_ids=[]\n",
    "used_ids.append(dset_name)\n",
    "index_col = 0\n",
    "print(\"!create %s:Dataset\" % dset_name)\n",
    "for col in dset.columns:\n",
    "    col_name=col.strip() \n",
    "    i = 1\n",
    "    while(col_name in used_ids):\n",
    "        col_name = col + str(i)\n",
    "        i+=1\n",
    "    print ('!create %s:Column' % col_name)\n",
    "    used_ids.append(col_name)\n",
    "    print (\"!%s.uri:=%s\" % (col_name,index_col))\n",
    "    print (\"!%s.name:='%s'\" % (col_name,col))\n",
    "    value_type = get_value_type(dset.dtypes[col])\n",
    "    print (\"!%s.type:='%s'\" % (col_name,value_type))\n",
    "    target_column = col in target_columns\n",
    "    print (\"!%s.target:='%s'\" % (col_name,target_column))\n",
    "    id_column = col in id_columns\n",
    "    print (\"!%s.id:='%s'\" % (col_name,id_column))\n",
    "    print(\"!insert (%s,%s) into DSCol\" % (dset_name, col_name))\n",
    "    for item in dset[col]:\n",
    "        data=item.strip()\n",
    "        i = 1\n",
    "        while(data in used_ids):\n",
    "            data = item + str(i)\n",
    "            i+=1\n",
    "        print ('!create %s:Data' % data)\n",
    "        used_ids.append(data)\n",
    "        print (\"!%s.value:='%s'\" % (data,item))\n",
    "        print (\"!insert (%s,%s) into DSData\" % (dset_name,data))\n",
    "        print (\"!insert (%s,%s) into DataCol\" % (data, col_name))\n",
    "    index_col+=1\n"
   ]
  },
  {
   "cell_type": "code",
   "execution_count": 12,
   "metadata": {
    "scrolled": true
   },
   "outputs": [
    {
     "name": "stdout",
     "output_type": "stream",
     "text": [
      "!create row0:Row\n",
      "!row0.uri:=0\n",
      "!insert (colors,row0) into DSRow\n",
      "!insert (AZUL,row0) into DataRow\n",
      "!insert (L,row0) into DataRow\n",
      "!create row1:Row\n",
      "!row1.uri:=1\n",
      "!insert (colors,row1) into DSRow\n",
      "!insert (BLANCO,row1) into DataRow\n",
      "!insert (M,row1) into DataRow\n",
      "!create row2:Row\n",
      "!row2.uri:=2\n",
      "!insert (colors,row2) into DSRow\n",
      "!insert (NEGRO,row2) into DataRow\n",
      "!insert (S,row2) into DataRow\n",
      "!create row3:Row\n",
      "!row3.uri:=3\n",
      "!insert (colors,row3) into DSRow\n",
      "!insert (AZUL1,row3) into DataRow\n",
      "!insert (M1,row3) into DataRow\n",
      "!create row4:Row\n",
      "!row4.uri:=4\n",
      "!insert (colors,row4) into DSRow\n",
      "!insert (BLANCO1,row4) into DataRow\n",
      "!insert (XL,row4) into DataRow\n"
     ]
    }
   ],
   "source": [
    "used_data=[]\n",
    "for i, item in dset.iterrows():\n",
    "    print(\"!create row%s:Row\" % i)\n",
    "    print(\"!row%s.uri:=%s\" % (i,i))\n",
    "    print(\"!insert (%s,row%s) into DSRow\" %(dset_name,i))\n",
    "    for data in item:\n",
    "        j = 1\n",
    "        while(data in used_data):\n",
    "            data = data + str(j)\n",
    "            j+=1\n",
    "        print(\"!insert (%s,row%s) into DataRow\" %(data,i))\n",
    "        used_data.append(data)"
   ]
  }
 ],
 "metadata": {
  "kernelspec": {
   "display_name": "Python 3",
   "language": "python",
   "name": "python3"
  },
  "language_info": {
   "codemirror_mode": {
    "name": "ipython",
    "version": 3
   },
   "file_extension": ".py",
   "mimetype": "text/x-python",
   "name": "python",
   "nbconvert_exporter": "python",
   "pygments_lexer": "ipython3",
   "version": "3.8.10"
  }
 },
 "nbformat": 4,
 "nbformat_minor": 4
}
